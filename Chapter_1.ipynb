{
 "cells": [
  {
   "cell_type": "markdown",
   "metadata": {},
   "source": [
    "# Chapter 1"
   ]
  },
  {
   "cell_type": "markdown",
   "metadata": {},
   "source": [
    "## Question 1.1"
   ]
  },
  {
   "cell_type": "code",
   "execution_count": 47,
   "metadata": {
    "collapsed": true
   },
   "outputs": [],
   "source": [
    "def has_all_unique_characters(s):\n",
    "    \"\"\"Return True if *s* contains all unique characters.\"\"\"\n",
    "    return len(s) == len(set(s))\n",
    "    \n",
    "def has_all_unique_characters2(s, max_ord=256):\n",
    "    \"\"\"Return True if *s* contains all unique characters.\"\"\"\n",
    "\n",
    "    counts = [0] * max_ord\n",
    "    for i in map(ord, s):\n",
    "        if i >= max_ord:            \n",
    "            diff = i - max_ord\n",
    "            zeros = (0 for i in range(diff))\n",
    "            counts.extend(zeros)\n",
    "            max_ord = i\n",
    "        if counts[i]:\n",
    "            return False\n",
    "        else:\n",
    "            counts[i] = 1\n",
    "%lprun -f has_all_unique_characters2 has_all_unique_characters2(ascii_letters2, 500)"
   ]
  },
  {
   "cell_type": "code",
   "execution_count": 49,
   "metadata": {
    "collapsed": false
   },
   "outputs": [
    {
     "name": "stdout",
     "output_type": "stream",
     "text": [
      "'abcdefghijklmnopqrstuvwxyzABCDEFGHIJKLMNOPQRSTUVWXYZ'\n",
      "(True, None)\n",
      "'abcdefghijklmnopqrstuvwxyzABCDEFGHIJKLMNOPQRSTUVWXYZabcdefghijklmnopqrstuvwxyzABCDEFGHIJKLMNOPQRSTUVWXYZ'\n",
      "(False, False)\n"
     ]
    }
   ],
   "source": [
    "from string import ascii_letters\n",
    "ascii_letters2 = ascii_letters + ascii_letters\n",
    "cases = [\n",
    "    ascii_letters,\n",
    "    ascii_letters2\n",
    "]\n",
    "for s in cases:\n",
    "    print(repr(s))\n",
    "    print((has_all_unique_characters(s), has_all_unique_characters2(s)))"
   ]
  },
  {
   "cell_type": "code",
   "execution_count": 50,
   "metadata": {
    "collapsed": false
   },
   "outputs": [
    {
     "name": "stdout",
     "output_type": "stream",
     "text": [
      "1000 loops, best of 3: 2.13 µs per loop\n",
      "1000 loops, best of 3: 3.59 µs per loop\n",
      "1000 loops, best of 3: 9.29 µs per loop\n",
      "1000 loops, best of 3: 9.68 µs per loop\n"
     ]
    }
   ],
   "source": [
    "%timeit -n 1000 has_all_unique_characters(ascii_letters)\n",
    "%timeit -n 1000 has_all_unique_characters(ascii_letters2)\n",
    "\n",
    "%timeit -n 1000 has_all_unique_characters2(ascii_letters)\n",
    "%timeit -n 1000 has_all_unique_characters2(ascii_letters2)"
   ]
  },
  {
   "cell_type": "code",
   "execution_count": 7,
   "metadata": {
    "collapsed": false
   },
   "outputs": [],
   "source": [
    "%lprun -f has_all_unique_characters2 has_all_unique_characters2(ascii_letters2, 500)"
   ]
  },
  {
   "cell_type": "markdown",
   "metadata": {},
   "source": [
    "## Question 1.3\n",
    "Is a string permutation of another?"
   ]
  },
  {
   "cell_type": "code",
   "execution_count": 51,
   "metadata": {
    "collapsed": true
   },
   "outputs": [],
   "source": [
    "from collections import Counter\n",
    "\n",
    "\n",
    "def are_permutations(s1, s2):\n",
    "    return len(s1) == len(s2) and Counter(s1) == Counter(s2)\n",
    "\n",
    "\n",
    "def are_permutations2(s1, s2):\n",
    "    if len(s1) != len(s2):\n",
    "        return False\n",
    "    counts = Counter(s1)\n",
    "    for char in s2:\n",
    "        c = counts[char]\n",
    "        if c == 0:\n",
    "            return False\n",
    "        else:\n",
    "            counts[char] = c - 1            \n",
    "    return True"
   ]
  },
  {
   "cell_type": "code",
   "execution_count": 52,
   "metadata": {
    "collapsed": false
   },
   "outputs": [
    {
     "name": "stdout",
     "output_type": "stream",
     "text": [
      "True\n",
      "True\n"
     ]
    }
   ],
   "source": [
    "ascii_reverse = ascii_letters[::-1]\n",
    "print(are_permutations(ascii_letters, ascii_reverse))\n",
    "print(are_permutations2(ascii_letters, ascii_reverse))"
   ]
  },
  {
   "cell_type": "code",
   "execution_count": 53,
   "metadata": {
    "collapsed": false
   },
   "outputs": [
    {
     "name": "stdout",
     "output_type": "stream",
     "text": [
      "1000 loops, best of 3: 18 µs per loop\n",
      "1000 loops, best of 3: 28.6 µs per loop\n"
     ]
    }
   ],
   "source": [
    "%timeit -n 1000 are_permutations(ascii_letters, ascii_reverse)\n",
    "%timeit -n 1000 are_permutations2(ascii_letters, ascii_reverse)"
   ]
  },
  {
   "cell_type": "code",
   "execution_count": 55,
   "metadata": {
    "collapsed": false
   },
   "outputs": [
    {
     "name": "stdout",
     "output_type": "stream",
     "text": [
      "100 loops, best of 3: 502 µs per loop\n",
      "100 loops, best of 3: 263 µs per loop\n"
     ]
    }
   ],
   "source": [
    "ascii_long = ascii_letters * 100\n",
    "ascii_long_ = \"a\" * 5200\n",
    "%timeit -n 100 are_permutations(ascii_long, ascii_long_)\n",
    "%timeit -n 100 are_permutations2(ascii_long, ascii_long_)"
   ]
  },
  {
   "cell_type": "markdown",
   "metadata": {},
   "source": [
    "## Question 1.5\n",
    "Simple string compression"
   ]
  },
  {
   "cell_type": "code",
   "execution_count": 69,
   "metadata": {
    "collapsed": false
   },
   "outputs": [],
   "source": [
    "def compress_string(s):\n",
    "    \n",
    "    prev = None\n",
    "    compressed = []\n",
    "    extend = lambda c, count: compressed.extend((c, str(count)))\n",
    "    count = 0\n",
    "    \n",
    "    for c in s:\n",
    "        if prev and c != prev:\n",
    "            extend(prev, count)\n",
    "            count = 0\n",
    "        count += 1\n",
    "        prev = c\n",
    "    extend(prev, count)\n",
    "    return ''.join(compressed)\n",
    "\n",
    "\n",
    "assert 'a2b1c5a3' == compress_string('aabcccccaaa')"
   ]
  },
  {
   "cell_type": "markdown",
   "metadata": {},
   "source": [
    "## Question 1.6\n",
    "Matrix rotation"
   ]
  },
  {
   "cell_type": "code",
   "execution_count": 79,
   "metadata": {
    "collapsed": false
   },
   "outputs": [
    {
     "name": "stdout",
     "output_type": "stream",
     "text": [
      " 0  1  2  3  4 \n",
      " 5  6  7  8  9 \n",
      "10 11 12 13 14 \n",
      "15 16 17 18 19 \n",
      "20 21 22 23 24 \n",
      "\n",
      "20 15 10  5  0 \n",
      "21 16 11  6  1 \n",
      "22 17 12  7  2 \n",
      "23 18 13  8  3 \n",
      "24 19 14  9  4 \n",
      "\n",
      "20 15 10  5  0 \n",
      "21 16 11  6  1 \n",
      "22 17 12  7  2 \n",
      "23 18 13  8  3 \n",
      "24 19 14  9  4 \n",
      "\n",
      "20 15 10  5  0 \n",
      "21 16 11  6  1 \n",
      "22 17 12  7  2 \n",
      "23 18 13  8  3 \n",
      "24 19 14  9  4 \n",
      "\n"
     ]
    }
   ],
   "source": [
    "from numpy import arange, rot90\n",
    "\n",
    "matrix = arange(25).reshape((5, 5))\n",
    "matrix_ = matrix.copy()\n",
    "\n",
    "def print_matrix(m, w=3):\n",
    "    \n",
    "    cell = '{{:^{}}}'.format(w) \n",
    "    for row in m:\n",
    "        print(''.join((cell.format(i) for i in row)))\n",
    "    print()\n",
    "\n",
    "def rotate_matrix(m):\n",
    "    \n",
    "    length = len(m)\n",
    "    n = length - 1\n",
    "    layers = int(n / 2)\n",
    "    for i in range(layers):\n",
    "        for j in range(i, n - i):\n",
    "            top = m[j, i]\n",
    "            m[j, i] = m[n - i, j]\n",
    "            m[n - i, j] = m[n - j, n - i]\n",
    "            m[n - j, n - i] = m[i, n - j]\n",
    "            m[i, n - j] = top\n",
    "    return m\n",
    "\n",
    "def rotate_matrix2(m):\n",
    "    \n",
    "    length = len(m)\n",
    "    n = length - 1\n",
    "    layers = int(n / 2)\n",
    "    for i in range(layers):\n",
    "        for j in range(i, n - i):\n",
    "            (m[i, n - j], m[j, i], m[n - i, j], m[n - j, n - i]) = (\n",
    "                m[j, i], m[n - i, j], m[n - j, n - i], m[i, n - j])\n",
    "    return m\n",
    "\n",
    "print_matrix(matrix)\n",
    "print_matrix(rotate_matrix(matrix.copy()))\n",
    "print_matrix(rotate_matrix(matrix.copy()))\n",
    "print_matrix(rot90(matrix, -1))\n",
    "\n",
    "rotate_matrix2(matrix)\n",
    "rotate_matrix2(matrix)\n",
    "rotate_matrix2(matrix)\n",
    "rotate_matrix2(matrix)\n",
    "assert (matrix_ == matrix).all()"
   ]
  },
  {
   "cell_type": "code",
   "execution_count": 80,
   "metadata": {
    "collapsed": false
   },
   "outputs": [
    {
     "name": "stdout",
     "output_type": "stream",
     "text": [
      "1000 loops, best of 3: 9.36 µs per loop\n",
      "1000 loops, best of 3: 8.54 µs per loop\n",
      "1000 loops, best of 3: 2.36 µs per loop\n"
     ]
    }
   ],
   "source": [
    "%timeit -n 1000 rotate_matrix(matrix)\n",
    "%timeit -n 1000 rotate_matrix2(matrix)\n",
    "%timeit -n 1000 rot90(matrix, -2)"
   ]
  },
  {
   "cell_type": "markdown",
   "metadata": {},
   "source": [
    "## Question 1.7\n",
    "Matrix zero"
   ]
  },
  {
   "cell_type": "code",
   "execution_count": 81,
   "metadata": {
    "collapsed": true
   },
   "outputs": [],
   "source": [
    "def zero_row_col(m):\n",
    "    h, w = m.shape\n",
    "    row2zero = [0] * h\n",
    "    col2zero = [0] * w\n",
    "    for i in range(h):\n",
    "        for j in range(w):\n",
    "            if m[i, j] == 0:\n",
    "                row2zero[i] = 1\n",
    "                col2zero[j] = 1\n",
    "\n",
    "    for i in range(h):\n",
    "        if row2zero[i]:\n",
    "            for j in range(w):\n",
    "                m[i, j] = 0\n",
    "        \n",
    "    for j in range(w):        \n",
    "        if col2zero[j]:\n",
    "            for i in range(h):\n",
    "                m[i, j] = 0\n",
    "    return m"
   ]
  },
  {
   "cell_type": "code",
   "execution_count": 82,
   "metadata": {
    "collapsed": false
   },
   "outputs": [
    {
     "name": "stdout",
     "output_type": "stream",
     "text": [
      " 0  0  0  0  0 \n",
      " 0  6  7  0  9 \n",
      " 0 11 12  0 14 \n",
      " 0  0  0  0  0 \n",
      " 0 21 22  0 24 \n",
      "\n"
     ]
    }
   ],
   "source": [
    "matrix2 = matrix.copy()\n",
    "matrix2[3, 3] = 0\n",
    "print_matrix(zero_row_col(matrix2))"
   ]
  },
  {
   "cell_type": "markdown",
   "metadata": {},
   "source": [
    "## Question 1.8"
   ]
  },
  {
   "cell_type": "code",
   "execution_count": 83,
   "metadata": {
    "collapsed": true
   },
   "outputs": [],
   "source": [
    "def is_rotation(s1, s2):\n",
    "    \n",
    "    return s2 in s1 * 2"
   ]
  },
  {
   "cell_type": "code",
   "execution_count": 85,
   "metadata": {
    "collapsed": true
   },
   "outputs": [],
   "source": [
    "assert is_rotation(\"waterbottle\", \"erbottlewat\")\n",
    "assert is_rotation(\"waterbottle\", \"bottlewater\")"
   ]
  }
 ],
 "metadata": {
  "kernelspec": {
   "display_name": "Python 2",
   "language": "python",
   "name": "python2"
  },
  "language_info": {
   "codemirror_mode": {
    "name": "ipython",
    "version": 2
   },
   "file_extension": ".py",
   "mimetype": "text/x-python",
   "name": "python",
   "nbconvert_exporter": "python",
   "pygments_lexer": "ipython2",
   "version": "2.7.10"
  }
 },
 "nbformat": 4,
 "nbformat_minor": 0
}
