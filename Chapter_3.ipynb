{
 "cells": [
  {
   "cell_type": "code",
   "execution_count": 1,
   "metadata": {
    "collapsed": false
   },
   "outputs": [],
   "source": [
    "class Node(object):\n",
    "    \n",
    "    def __init__(self, data=None, next=None):\n",
    "        self.data = data\n",
    "        self.next = next\n",
    "        \n",
    "    def __str__(self):\n",
    "        \n",
    "        return str(self.data)\n",
    "\n",
    "class Stack(object):\n",
    "    \n",
    "    def __init__(self, *items, **kwargs):\n",
    "        \n",
    "        self.top = None\n",
    "        self.size = 0\n",
    "        self.capacity = kwargs.get('capacity')\n",
    "        map(self.push, items)\n",
    "        \n",
    "    def full(self):\n",
    "        \n",
    "        return self.size == self.capacity\n",
    "    \n",
    "    def empty(self):\n",
    "        \n",
    "        return self.size == 0\n",
    "\n",
    "    def peek(self):\n",
    "        \n",
    "        if self.top is not None:\n",
    "            return self.top.data\n",
    "        \n",
    "    def push(self, data):\n",
    "        \n",
    "        self.top = Node(data, self.top)\n",
    "        self.size += 1\n",
    "        \n",
    "    def pop(self):\n",
    "        \n",
    "        if self.top is not None:\n",
    "            top, self.top = self.top, self.top.next\n",
    "            self.size -= 1\n",
    "            return top.data\n",
    "        \n",
    "    def __iter__(self):\n",
    "        \n",
    "        node = self.top\n",
    "        while node is not None:\n",
    "            yield node\n",
    "            node = node.next\n",
    "    \n",
    "    def __str__(self):\n",
    "        \n",
    "        return ', '.join(reversed(map(str, self)))\n",
    "    \n",
    "    def __repr__(self):\n",
    "        \n",
    "        return '{}({})'.format(self.__class__.__name__, str(self))\n",
    "    \n",
    "    def __len__(self):\n",
    "        return self.size"
   ]
  },
  {
   "cell_type": "code",
   "execution_count": 107,
   "metadata": {
    "collapsed": false
   },
   "outputs": [
    {
     "name": "stdout",
     "output_type": "stream",
     "text": [
      "1, 2, 3, 4\n",
      "4\n",
      "1, 2, 3\n",
      "3\n",
      "1, 2\n",
      "2\n",
      "1\n",
      "1\n",
      "\n"
     ]
    }
   ],
   "source": [
    "stack = Stack(1, 2, 3, 4)\n",
    "print(stack)\n",
    "print(stack.pop())\n",
    "print(stack)\n",
    "print(stack.pop())\n",
    "print(stack)\n",
    "print(stack.pop())\n",
    "print(stack)\n",
    "print(stack.pop())\n",
    "print(stack)"
   ]
  },
  {
   "cell_type": "markdown",
   "metadata": {},
   "source": [
    "## Question 3.2\n",
    "Stach with `min` method"
   ]
  },
  {
   "cell_type": "code",
   "execution_count": 47,
   "metadata": {
    "collapsed": false
   },
   "outputs": [],
   "source": [
    "class StackWithMin(Stack):\n",
    "    \n",
    "    def __init__(self, *items):\n",
    "        \n",
    "        self._min = Stack()\n",
    "        \n",
    "        super(StackWithMin, self).__init__(*items)\n",
    "        \n",
    "    def push(self, data):\n",
    "\n",
    "        super(StackWithMin, self).push(data)\n",
    "        min = self._min.peek()\n",
    "        if min is None or data <= min:\n",
    "            self._min.push(data)\n",
    "            \n",
    "    \n",
    "    def pop(self):\n",
    "        \n",
    "        data = super(StackWithMin, self).pop()\n",
    "        if data == self._min.peek():\n",
    "            self._min.pop()\n",
    "        return data\n",
    "        \n",
    "    def min(self):\n",
    "\n",
    "        return self._min.peek()"
   ]
  },
  {
   "cell_type": "code",
   "execution_count": 48,
   "metadata": {
    "collapsed": false
   },
   "outputs": [
    {
     "name": "stdout",
     "output_type": "stream",
     "text": [
      "Stack: 6, 8, 4, 5, 2, 8, 1, 1, 6\n",
      "Min: 1\n",
      "Stack: 6, 8, 4, 5, 2, 8, 1, 1\n",
      "Min: 1\n",
      "Stack: 6, 8, 4, 5, 2, 8, 1\n",
      "Min: 1\n",
      "Stack: 6, 8, 4, 5, 2, 8\n",
      "Min: 2\n",
      "Stack: 6, 8, 4, 5, 2\n",
      "Min: 2\n",
      "Stack: 6, 8, 4, 5\n",
      "Min: 4\n"
     ]
    }
   ],
   "source": [
    "stack = StackWithMin(6, 8, 4, 5, 2, 8, 1, 1, 6)\n",
    "def print_stack(stack):    \n",
    "    print('Stack: ' + str(stack))\n",
    "    print('Min: ' + str(stack.min()))\n",
    "print_stack(stack)\n",
    "stack.pop()\n",
    "print_stack(stack)\n",
    "stack.pop()\n",
    "print_stack(stack)\n",
    "stack.pop()\n",
    "print_stack(stack)\n",
    "stack.pop()\n",
    "print_stack(stack)\n",
    "stack.pop()\n",
    "print_stack(stack)"
   ]
  },
  {
   "cell_type": "markdown",
   "metadata": {
    "collapsed": true
   },
   "source": [
    "## Question 3.3"
   ]
  },
  {
   "cell_type": "code",
   "execution_count": 102,
   "metadata": {
    "collapsed": false
   },
   "outputs": [],
   "source": [
    "class MultiStack(Stack):\n",
    "    \n",
    "    def __init__(self, *items, **kwargs):\n",
    "        \n",
    "        super(MultiStack, self).__init__()\n",
    "        self._capacity = kwargs.get('capacity', 10)\n",
    "        map(self.push, items)\n",
    "\n",
    "    def push(self, item):\n",
    "        \n",
    "        stack = self.peek()\n",
    "        if stack is None or stack.full():\n",
    "            stack = Stack(capacity=self._capacity)\n",
    "            super(MultiStack, self).push(stack)\n",
    "        stack.push(item)\n",
    "        \n",
    "    def pop(self):\n",
    "\n",
    "        if self.size:\n",
    "            stack = self.peek()\n",
    "            item = stack.pop()\n",
    "            if item is not None:\n",
    "                return item\n",
    "            super(MultiStack, self).pop()\n",
    "            value = self.peek().pop()\n",
    "            return value\n",
    "    \n",
    "    def __str__(self):\n",
    "    \n",
    "        s = super(MultiStack, self)\n",
    "        return '; '.join(reversed(map(str, self)))"
   ]
  },
  {
   "cell_type": "code",
   "execution_count": 103,
   "metadata": {
    "collapsed": false
   },
   "outputs": [
    {
     "name": "stdout",
     "output_type": "stream",
     "text": [
      "0, 1, 2, 3, 4, 5, 6, 7, 8, 9; 10, 11, 12, 13, 14, 15, 16, 17, 18, 19; 20, 21, 22, 23, 24, 25, 26, 27, 28, 29\n",
      "0, 1, 2, 3, 4, 5, 6, 7, 8, 9; 10, 11, 12, 13, 14, 15, 16, 17, 18, 19; 20, 21, 22, 23, 24, 25, 26, 27, 28\n",
      "0, 1, 2, 3, 4, 5, 6, 7, 8, 9; 10, 11, 12, 13, 14, 15, 16, 17, 18, 19; 20, 21, 22, 23\n",
      "0, 1, 2, 3, 4, 5, 6, 7, 8, 9; 10, 11, 12, 13, 14, 15, 16, 17, 18\n",
      "0, 1, 2, 3, 4, 5, 6, 7, 8, 9; 10, 11, 12, 13\n",
      "0, 1, 2, 3, 4, 5, 6, 7, 8\n",
      "0, 1, 2, 3\n"
     ]
    }
   ],
   "source": [
    "stack = MultiStack(*list(range(30)))\n",
    "print(stack)\n",
    "for i in range(30):\n",
    "    stack.pop()\n",
    "    if i % 5 == 0:\n",
    "        print(stack)"
   ]
  },
  {
   "cell_type": "markdown",
   "metadata": {
    "collapsed": true
   },
   "source": [
    "## Question 3.4"
   ]
  },
  {
   "cell_type": "code",
   "execution_count": 18,
   "metadata": {
    "collapsed": false
   },
   "outputs": [
    {
     "name": "stdout",
     "output_type": "stream",
     "text": [
      "Towers of Hanoi with 1 disks\n",
      "[Stack(0), Stack(), Stack()]\n",
      "  1: [Stack(0), Stack(), Stack()]\n",
      "   : [Stack(), Stack(), Stack(0)]\n",
      "[Stack(), Stack(), Stack(0)]\n",
      "\n",
      "Towers of Hanoi with 2 disks\n",
      "[Stack(1, 0), Stack(), Stack()]\n",
      "  1: [Stack(1, 0), Stack(), Stack()]\n",
      "   : [Stack(1), Stack(0), Stack()]\n",
      "  2: [Stack(1), Stack(0), Stack()]\n",
      "   : [Stack(), Stack(0), Stack(1)]\n",
      "  3: [Stack(), Stack(0), Stack(1)]\n",
      "   : [Stack(), Stack(), Stack(1, 0)]\n",
      "[Stack(), Stack(), Stack(1, 0)]\n",
      "\n",
      "Towers of Hanoi with 3 disks\n",
      "[Stack(2, 1, 0), Stack(), Stack()]\n",
      "  1: [Stack(2, 1, 0), Stack(), Stack()]\n",
      "   : [Stack(2, 1), Stack(), Stack(0)]\n",
      "  2: [Stack(2, 1), Stack(), Stack(0)]\n",
      "   : [Stack(2), Stack(1), Stack(0)]\n",
      "  3: [Stack(2), Stack(1), Stack(0)]\n",
      "   : [Stack(2), Stack(1, 0), Stack()]\n",
      "  4: [Stack(2), Stack(1, 0), Stack()]\n",
      "   : [Stack(), Stack(1, 0), Stack(2)]\n",
      "  5: [Stack(), Stack(1, 0), Stack(2)]\n",
      "   : [Stack(0), Stack(1), Stack(2)]\n",
      "  6: [Stack(0), Stack(1), Stack(2)]\n",
      "   : [Stack(0), Stack(), Stack(2, 1)]\n",
      "  7: [Stack(0), Stack(), Stack(2, 1)]\n",
      "   : [Stack(), Stack(), Stack(2, 1, 0)]\n",
      "[Stack(), Stack(), Stack(2, 1, 0)]\n",
      "\n",
      "Towers of Hanoi with 4 disks\n",
      "[Stack(3, 2, 1, 0), Stack(), Stack()]\n",
      "  1: [Stack(3, 2, 1, 0), Stack(), Stack()]\n",
      "   : [Stack(3, 2, 1), Stack(0), Stack()]\n",
      "  2: [Stack(3, 2, 1), Stack(0), Stack()]\n",
      "   : [Stack(3, 2), Stack(0), Stack(1)]\n",
      "  3: [Stack(3, 2), Stack(0), Stack(1)]\n",
      "   : [Stack(3, 2), Stack(), Stack(1, 0)]\n",
      "  4: [Stack(3, 2), Stack(), Stack(1, 0)]\n",
      "   : [Stack(3), Stack(2), Stack(1, 0)]\n",
      "  5: [Stack(3), Stack(2), Stack(1, 0)]\n",
      "   : [Stack(3, 0), Stack(2), Stack(1)]\n",
      "  6: [Stack(3, 0), Stack(2), Stack(1)]\n",
      "   : [Stack(3, 0), Stack(2, 1), Stack()]\n",
      "  7: [Stack(3, 0), Stack(2, 1), Stack()]\n",
      "   : [Stack(3), Stack(2, 1, 0), Stack()]\n",
      "  8: [Stack(3), Stack(2, 1, 0), Stack()]\n",
      "   : [Stack(), Stack(2, 1, 0), Stack(3)]\n",
      "  9: [Stack(), Stack(2, 1, 0), Stack(3)]\n",
      "   : [Stack(), Stack(2, 1), Stack(3, 0)]\n",
      " 10: [Stack(), Stack(2, 1), Stack(3, 0)]\n",
      "   : [Stack(1), Stack(2), Stack(3, 0)]\n",
      " 11: [Stack(1), Stack(2), Stack(3, 0)]\n",
      "   : [Stack(1, 0), Stack(2), Stack(3)]\n",
      " 12: [Stack(1, 0), Stack(2), Stack(3)]\n",
      "   : [Stack(1, 0), Stack(), Stack(3, 2)]\n",
      " 13: [Stack(1, 0), Stack(), Stack(3, 2)]\n",
      "   : [Stack(1), Stack(0), Stack(3, 2)]\n",
      " 14: [Stack(1), Stack(0), Stack(3, 2)]\n",
      "   : [Stack(), Stack(0), Stack(3, 2, 1)]\n",
      " 15: [Stack(), Stack(0), Stack(3, 2, 1)]\n",
      "   : [Stack(), Stack(), Stack(3, 2, 1, 0)]\n",
      "[Stack(), Stack(), Stack(3, 2, 1, 0)]\n",
      "\n"
     ]
    }
   ],
   "source": [
    "\n",
    "def move_disks_2(n, orig, dest, buff):\n",
    "    \n",
    "    o = orig\n",
    "    while len(o):\n",
    "        dest, buff = buff, dest\n",
    "        move_disks(n-1, orig, buff, dest)\n",
    "        if len(orig):\n",
    "            dest.push(orig.pop())        \n",
    "        move_disks(n-1, buff, dest, orig)\n",
    "\n",
    "    \n",
    "def play_hanoi(n):\n",
    "    def move_disks(n, orig, dest, buff):\n",
    "        if n <= 0:\n",
    "            return\n",
    "        move_disks(n-1, orig, buff, dest)\n",
    "        if len(orig):\n",
    "            count[0] += 1\n",
    "            print('{:3d}: {:}'.format(count[0], repr(towers)))\n",
    "            dest.push(orig.pop())\n",
    "            print('   : {:}'.format(repr(towers)))\n",
    "        move_disks(n-1, buff, dest, orig)\n",
    "\n",
    "    print(\"Towers of Hanoi with {} disks\".format(n))\n",
    "    count = [0]\n",
    "    towers = [Stack(*reversed(range(n))), Stack(), Stack()]\n",
    "    print(towers)\n",
    "    move_disks(n, towers[0], towers[2], towers[1])\n",
    "    print(towers)\n",
    "    print(\"\")\n",
    "play_hanoi(1)\n",
    "play_hanoi(2)\n",
    "play_hanoi(3)\n",
    "play_hanoi(4)"
   ]
  },
  {
   "cell_type": "code",
   "execution_count": 28,
   "metadata": {
    "collapsed": false
   },
   "outputs": [
    {
     "name": "stdout",
     "output_type": "stream",
     "text": [
      "[1, 2, 3, 4]\n",
      "[4, 3, 2, 1]\n"
     ]
    }
   ],
   "source": [
    "class Queue(object):\n",
    "    \n",
    "    def __init__(self, *items):\n",
    "        \n",
    "        self._newest = Stack()\n",
    "        self._oldest = Stack()\n",
    "        map(self.push, items)\n",
    "            \n",
    "            \n",
    "    def __len__(self):\n",
    "        \n",
    "        return len(self._newest) + len(self._oldest)\n",
    "        \n",
    "    def push(self, item):\n",
    "    \n",
    "        self._newest.push(item)\n",
    "        \n",
    "    def pop(self):\n",
    "    \n",
    "        self._move()\n",
    "        return self._oldest.pop()\n",
    "\n",
    "    def peek(self):\n",
    "    \n",
    "        self._move()\n",
    "        return self._oldest.peek()\n",
    "\n",
    "    def _move(self):\n",
    "\n",
    "        while len(self._newest):\n",
    "            self._oldest.push(self._newest.pop())\n",
    "    \n",
    "queue = Queue(1, 2, 3, 4)\n",
    "print([queue.pop() for i in range(len(queue))])\n",
    "stack = Stack(1, 2, 3, 4)\n",
    "print([stack.pop() for i in range(len(stack))])"
   ]
  },
  {
   "cell_type": "code",
   "execution_count": null,
   "metadata": {
    "collapsed": true
   },
   "outputs": [],
   "source": []
  }
 ],
 "metadata": {
  "kernelspec": {
   "display_name": "Python 2",
   "language": "python",
   "name": "python2"
  },
  "language_info": {
   "codemirror_mode": {
    "name": "ipython",
    "version": 2
   },
   "file_extension": ".py",
   "mimetype": "text/x-python",
   "name": "python",
   "nbconvert_exporter": "python",
   "pygments_lexer": "ipython2",
   "version": "2.7.10"
  }
 },
 "nbformat": 4,
 "nbformat_minor": 0
}
