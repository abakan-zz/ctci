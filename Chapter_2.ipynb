{
 "cells": [
  {
   "cell_type": "markdown",
   "metadata": {},
   "source": [
    "# Chapter 2"
   ]
  },
  {
   "cell_type": "code",
   "execution_count": 92,
   "metadata": {
    "collapsed": false
   },
   "outputs": [],
   "source": [
    "from operator import attrgetter\n",
    "from recordclass import recordclass\n",
    "\n",
    "Node = recordclass('Node', ('data', 'next'))\n",
    "\n",
    "class LinkedList(object):\n",
    "    \n",
    "    def __init__(self, *items):\n",
    "        \n",
    "        node = None\n",
    "        for item in items[::-1]:\n",
    "            node = Node(item, node)\n",
    "        self.head = node\n",
    "    \n",
    "    def __getitem__(self, index):\n",
    "        \n",
    "        node = self.head\n",
    "        i = 0\n",
    "        while node is not None and i < index:\n",
    "            node = node.next\n",
    "            i += 1\n",
    "        return node\n",
    "    \n",
    "    def __iter__(self):\n",
    "        \n",
    "        node = self.head\n",
    "        while node is not None:\n",
    "            yield node\n",
    "            node = node.next\n",
    "    \n",
    "    def __str__(self):\n",
    "        \n",
    "        data = attrgetter('data')\n",
    "        return ', '.join(map(str, map(data, self)))"
   ]
  },
  {
   "cell_type": "code",
   "execution_count": 31,
   "metadata": {
    "collapsed": false
   },
   "outputs": [
    {
     "name": "stdout",
     "output_type": "stream",
     "text": [
      "0, 1, 2, 3, 4, 5, 6, 7, 8, 9\n"
     ]
    }
   ],
   "source": [
    "ll = LinkedList(*list(range(10)))\n",
    "print(ll)"
   ]
  },
  {
   "cell_type": "markdown",
   "metadata": {},
   "source": [
    "## Question 1"
   ]
  },
  {
   "cell_type": "code",
   "execution_count": 35,
   "metadata": {
    "collapsed": false
   },
   "outputs": [
    {
     "name": "stdout",
     "output_type": "stream",
     "text": [
      "0, 1, 2, 3, 2, 1, 0\n",
      "0, 1, 2, 3\n"
     ]
    }
   ],
   "source": [
    "def remove_duplicates(ll):\n",
    "\n",
    "    prev = None\n",
    "    items = set()\n",
    "    node = ll.head\n",
    "    while node is not None:\n",
    "        if node.data in items:\n",
    "            prev.next = node = node.next\n",
    "        else:\n",
    "            items.add(node.data)\n",
    "            prev = node\n",
    "            node = node.next\n",
    "    return ll\n",
    "ll = LinkedList(0, 1, 2, 3, 2, 1, 0)\n",
    "print(ll)\n",
    "print(remove_duplicates(ll))"
   ]
  },
  {
   "cell_type": "code",
   "execution_count": 36,
   "metadata": {
    "collapsed": false
   },
   "outputs": [
    {
     "name": "stdout",
     "output_type": "stream",
     "text": [
      "0, 1, 2, 3, 2, 1, 0, 0, 1, 2, 3, 2, 1, 0, 0, 1, 2, 3, 2, 1, 0\n",
      "0, 1, 2, 3\n"
     ]
    }
   ],
   "source": [
    "ll = LinkedList(*([0, 1, 2, 3, 2, 1, 0] * 3))\n",
    "print(ll)\n",
    "def remove_duplicates2(ll):\n",
    "    head = ll.head\n",
    "    while head is not None:\n",
    "        prev, node = head, head.next\n",
    "        while node is not None:\n",
    "            if node.data == head.data:\n",
    "                prev.next = node = node.next\n",
    "            else:\n",
    "                prev, node = node, node.next\n",
    "        head = head.next\n",
    "    return ll\n",
    "print(remove_duplicates2(ll))"
   ]
  },
  {
   "cell_type": "code",
   "execution_count": 37,
   "metadata": {
    "collapsed": false
   },
   "outputs": [
    {
     "name": "stdout",
     "output_type": "stream",
     "text": [
      "1000 loops, best of 3: 5.17 µs per loop\n",
      "1000 loops, best of 3: 5.45 µs per loop\n"
     ]
    }
   ],
   "source": [
    "%timeit -n 1000 remove_duplicates(LinkedList(0, 1, 2, 3, 2, 1, 0))\n",
    "%timeit -n 1000 remove_duplicates2(LinkedList(0, 1, 2, 3, 2, 1, 0))"
   ]
  },
  {
   "cell_type": "markdown",
   "metadata": {},
   "source": [
    "## Question 2"
   ]
  },
  {
   "cell_type": "code",
   "execution_count": 39,
   "metadata": {
    "collapsed": false
   },
   "outputs": [
    {
     "name": "stdout",
     "output_type": "stream",
     "text": [
      "0, 1, 2, 3, 4, 5\n",
      "5\n",
      "4\n",
      "3\n",
      "None\n"
     ]
    }
   ],
   "source": [
    "def nth_to_the_last(ll, n):\n",
    "    \n",
    "    i = 0\n",
    "    n_th = node = ll.head\n",
    "    while node is not None:\n",
    "        if i > n:\n",
    "           n_th = n_th.next \n",
    "        node = node.next\n",
    "        i += 1\n",
    "    if i < n:\n",
    "        return None\n",
    "    else:\n",
    "        return n_th.data\n",
    "    \n",
    "ll = LinkedList(*list(range(6)))\n",
    "print(ll)\n",
    "print(nth_to_the_last(ll, 0))\n",
    "print(nth_to_the_last(ll, 1))\n",
    "print(nth_to_the_last(ll, 2))\n",
    "print(nth_to_the_last(ll, 7))"
   ]
  },
  {
   "cell_type": "code",
   "execution_count": 41,
   "metadata": {
    "collapsed": false
   },
   "outputs": [
    {
     "name": "stdout",
     "output_type": "stream",
     "text": [
      "5\n",
      "3\n",
      "0\n"
     ]
    }
   ],
   "source": [
    "def nth_to_the_last2(ll, n):\n",
    "    \n",
    "    def nth_to_the_last2(node, n, first=False):\n",
    "        if node is None:\n",
    "            return -1\n",
    "        \n",
    "        v = nth_to_the_last2(node.next, n)\n",
    "        if isinstance(v, int):\n",
    "            if v + 1 == n:\n",
    "                if first:\n",
    "                    return node.data\n",
    "                else:\n",
    "                    return node\n",
    "            else:\n",
    "                if first:\n",
    "                    raise IndexError(\"index out of range\")\n",
    "                else:\n",
    "                    return v + 1\n",
    "        else:\n",
    "            if first:\n",
    "                return v.data\n",
    "            else:\n",
    "                return v\n",
    "    return nth_to_the_last2(ll.head, n, first=True)\n",
    "\n",
    "print(nth_to_the_last2(ll, 0))\n",
    "print(nth_to_the_last2(ll, 2))\n",
    "print(nth_to_the_last2(ll, 5))"
   ]
  },
  {
   "cell_type": "code",
   "execution_count": 43,
   "metadata": {
    "collapsed": false
   },
   "outputs": [
    {
     "name": "stdout",
     "output_type": "stream",
     "text": [
      "1000 loops, best of 3: 757 ns per loop\n",
      "1000 loops, best of 3: 2.56 µs per loop\n"
     ]
    }
   ],
   "source": [
    "%timeit -n 1000 nth_to_the_last(ll, 5)\n",
    "%timeit -n 1000 nth_to_the_last2(ll, 5)"
   ]
  },
  {
   "cell_type": "markdown",
   "metadata": {
    "collapsed": true
   },
   "source": [
    "## Question 2.3\n",
    "Delete a given node from a linked list"
   ]
  },
  {
   "cell_type": "code",
   "execution_count": 45,
   "metadata": {
    "collapsed": false
   },
   "outputs": [
    {
     "name": "stdout",
     "output_type": "stream",
     "text": [
      "0, 1, 2, 3, 4, 5, 6\n",
      "0, 1, 3, 4, 5, 6\n"
     ]
    }
   ],
   "source": [
    "def delete_node(node):\n",
    "    if node.next is not None:\n",
    "        next = node.next\n",
    "        node.data, node.next = next.data, next.next\n",
    "ll = LinkedList(*list(range(7)))\n",
    "print(ll)\n",
    "delete_node(ll.head.next.next)\n",
    "print(ll)"
   ]
  },
  {
   "cell_type": "markdown",
   "metadata": {},
   "source": [
    "## Question 2.4\n",
    "Partition a linked list"
   ]
  },
  {
   "cell_type": "code",
   "execution_count": 58,
   "metadata": {
    "collapsed": false
   },
   "outputs": [
    {
     "name": "stdout",
     "output_type": "stream",
     "text": [
      "5, 0, 1, 2, 3, 3, 2, 1, 0, 5\n",
      "0, 1, 2, 2, 1, 0, 5, 3, 3, 5\n"
     ]
    }
   ],
   "source": [
    "def partition_linked_list(ll, value):\n",
    "\n",
    "    left_head = left_tail = None\n",
    "    right_head = right_tail = None\n",
    "    node = ll.head\n",
    "    while node is not None:\n",
    "        if node.data < value:\n",
    "            if left_head is None:\n",
    "                left_head = left_tail = node\n",
    "            else:\n",
    "                left_tail.next = left_tail = node\n",
    "        else:\n",
    "            if right_head is None:\n",
    "                right_head = right_tail = node\n",
    "            else:\n",
    "                right_tail.next = right_tail = node\n",
    "        node.next, node = None, node.next\n",
    "    ll.head = left_head\n",
    "    left_tail.next = right_head\n",
    "    return ll\n",
    "        \n",
    "    \n",
    "ll = LinkedList(5, 0, 1, 2, 3, 3, 2, 1, 0, 5)\n",
    "print(ll)\n",
    "print(partition_linked_list(ll, 2.5))"
   ]
  },
  {
   "cell_type": "markdown",
   "metadata": {},
   "source": [
    "## Question 2.5\n",
    "Sum up numbers represented by linked lists"
   ]
  },
  {
   "cell_type": "code",
   "execution_count": 69,
   "metadata": {
    "collapsed": false
   },
   "outputs": [
    {
     "name": "stdout",
     "output_type": "stream",
     "text": [
      "2, 2\n",
      "0, 1, 1\n",
      "0, 0, 2\n",
      "0, 0, 0, 0, 1\n"
     ]
    }
   ],
   "source": [
    "def sum_linked_lists(a_list, b_list):\n",
    "    \n",
    "    t_list = LinkedList(0)\n",
    "    a = a_list.head\n",
    "    b = b_list.head\n",
    "    t = t_list.head\n",
    "    total = 0\n",
    "    prev = None\n",
    "    while a is not None or b is not None:\n",
    "        if a is not None:\n",
    "            total += a.data\n",
    "            a = a.next\n",
    "        if b is not None:\n",
    "            total += b.data\n",
    "            b = b.next\n",
    "        t.data = total % 10\n",
    "        total = int((total - t.data) / 10)\n",
    "        prev = t\n",
    "        prev.next = t = Node(0, None)\n",
    "    t.data = total\n",
    "    if t.data == 0:\n",
    "        prev.next = None\n",
    "    return t_list\n",
    "        \n",
    "        \n",
    "print(sum_linked_lists(LinkedList(1, 1), LinkedList(1, 1)))\n",
    "print(sum_linked_lists(LinkedList(9, 9), LinkedList(1, 1)))\n",
    "print(sum_linked_lists(LinkedList(9, 9), LinkedList(1, 0, 1)))\n",
    "print(sum_linked_lists(LinkedList(9, 9, 8, 8), LinkedList(1, 0, 1, 1)))"
   ]
  },
  {
   "cell_type": "markdown",
   "metadata": {
    "collapsed": true
   },
   "source": [
    "## Question 2.6\n",
    "Identify beginning of a loop"
   ]
  },
  {
   "cell_type": "code",
   "execution_count": 85,
   "metadata": {
    "collapsed": true
   },
   "outputs": [],
   "source": [
    "def loop_head(ll):\n",
    "    \n",
    "    fast = slow = ll.head\n",
    "    \n",
    "    while fast is not None and fast.next is not None:\n",
    "        slow = slow.next\n",
    "        fast = fast.next.next\n",
    "        if slow is fast:\n",
    "            break\n",
    "    slow = ll.head\n",
    "    while slow is not fast:\n",
    "        slow = slow.next\n",
    "        fast = fast.next\n",
    "    return slow\n",
    "    "
   ]
  },
  {
   "cell_type": "code",
   "execution_count": 97,
   "metadata": {
    "collapsed": false,
    "scrolled": false
   },
   "outputs": [
    {
     "name": "stdout",
     "output_type": "stream",
     "text": [
      "3\n",
      "4\n",
      "9\n",
      "10\n"
     ]
    }
   ],
   "source": [
    "ll = LinkedList(*list(range(11)))\n",
    "ll[10].next = ll[3]\n",
    "print(loop_head(ll).data)\n",
    "ll[10].next = ll[4]\n",
    "print(loop_head(ll).data)\n",
    "ll[10].next = ll[9]\n",
    "print(loop_head(ll).data)\n",
    "ll[10].next = ll[10]\n",
    "print(loop_head(ll).data)"
   ]
  },
  {
   "cell_type": "code",
   "execution_count": null,
   "metadata": {
    "collapsed": true
   },
   "outputs": [],
   "source": []
  }
 ],
 "metadata": {
  "kernelspec": {
   "display_name": "Python 3",
   "language": "python",
   "name": "python3"
  },
  "language_info": {
   "codemirror_mode": {
    "name": "ipython",
    "version": 3
   },
   "file_extension": ".py",
   "mimetype": "text/x-python",
   "name": "python",
   "nbconvert_exporter": "python",
   "pygments_lexer": "ipython3",
   "version": "3.5.0"
  }
 },
 "nbformat": 4,
 "nbformat_minor": 0
}
